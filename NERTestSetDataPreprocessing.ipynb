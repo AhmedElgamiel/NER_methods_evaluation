{
  "nbformat": 4,
  "nbformat_minor": 0,
  "metadata": {
    "colab": {
      "provenance": [],
      "authorship_tag": "ABX9TyMS5Nm/oSHEDe/zhxt/M/ol",
      "include_colab_link": true
    },
    "kernelspec": {
      "name": "python3",
      "display_name": "Python 3"
    },
    "language_info": {
      "name": "python"
    }
  },
  "cells": [
    {
      "cell_type": "markdown",
      "metadata": {
        "id": "view-in-github",
        "colab_type": "text"
      },
      "source": [
        "<a href=\"https://colab.research.google.com/github/AhmedElgamiel/NER_methods_evaluation/blob/main/NERTestSetDataPreprocessing.ipynb\" target=\"_parent\"><img src=\"https://colab.research.google.com/assets/colab-badge.svg\" alt=\"Open In Colab\"/></a>"
      ]
    },
    {
      "cell_type": "markdown",
      "source": [
        "## Install important dependencies"
      ],
      "metadata": {
        "id": "QXnc6UAJab5Z"
      }
    },
    {
      "cell_type": "code",
      "source": [
        "!pip install bs4"
      ],
      "metadata": {
        "id": "YecfTJZyabMn"
      },
      "execution_count": null,
      "outputs": []
    },
    {
      "cell_type": "code",
      "source": [
        "# install spacy library\n",
        "!pip install -U spacy"
      ],
      "metadata": {
        "id": "_wJin3cug3l_"
      },
      "execution_count": null,
      "outputs": []
    },
    {
      "cell_type": "code",
      "source": [
        "# Install spacy-transformers\n",
        "!pip install spacy[transformers]"
      ],
      "metadata": {
        "id": "wB9Sx0fKip9I"
      },
      "execution_count": null,
      "outputs": []
    },
    {
      "cell_type": "code",
      "source": [
        "# Download the traditional spacy english language large model\n",
        "!python -m spacy download en_core_web_lg \n"
      ],
      "metadata": {
        "id": "qbNVoshRbld8"
      },
      "execution_count": null,
      "outputs": []
    },
    {
      "cell_type": "code",
      "source": [
        "# Download the spacy transformer (roberta-base) english model\n",
        "!python -m spacy download en_core_web_trf\n"
      ],
      "metadata": {
        "id": "8XPQ5OkkcO4l"
      },
      "execution_count": null,
      "outputs": []
    },
    {
      "cell_type": "markdown",
      "source": [
        "## Import our dependencies"
      ],
      "metadata": {
        "id": "7s53_VlWmVcj"
      }
    },
    {
      "cell_type": "code",
      "source": [
        "from bs4 import BeautifulSoup\n",
        "from pathlib import Path\n",
        "import re\n",
        "import spacy\n",
        "from spacy import displacy\n"
      ],
      "metadata": {
        "colab": {
          "base_uri": "https://localhost:8080/"
        },
        "id": "NrQJWJKBmU8e",
        "outputId": "f5c8dd9a-0b75-485c-bd75-7d955e781188"
      },
      "execution_count": 6,
      "outputs": [
        {
          "output_type": "stream",
          "name": "stderr",
          "text": [
            "/usr/local/lib/python3.8/dist-packages/torch/cuda/__init__.py:497: UserWarning: Can't initialize NVML\n",
            "  warnings.warn(\"Can't initialize NVML\")\n"
          ]
        }
      ]
    },
    {
      "cell_type": "markdown",
      "source": [
        "## Fuction Definitions"
      ],
      "metadata": {
        "id": "ot7VVRs7mt43"
      }
    },
    {
      "cell_type": "code",
      "source": [
        "def get_ground_truth_entities(sentence) :\n",
        "  return re.findall('<ENAMEX TYPE=\"([a-zA-Z]*)\">([^\\<]*)</ENAMEX>', sentence)"
      ],
      "metadata": {
        "id": "qPFwuymzSfhJ"
      },
      "execution_count": 7,
      "outputs": []
    },
    {
      "cell_type": "code",
      "source": [
        "def print_entities(pipeline, text):\n",
        "    \n",
        "  # Create a document \n",
        "  document = pipeline(text)\n",
        "    \n",
        "  # Entity text & label extraction\n",
        "  for entity in document.ents:\n",
        "    print(entity.text + '->', entity.label_)\n",
        "        \n",
        "        \n",
        "def visualize_entities(pipeline, text):\n",
        "  \n",
        "  # Create a document \n",
        "  document = pipeline(text)\n",
        "        \n",
        "  # Show entities in pretty manner\n",
        "  displacy.render(document, jupyter=True, style='ent')"
      ],
      "metadata": {
        "id": "mxciCzfxb1CQ"
      },
      "execution_count": 8,
      "outputs": []
    },
    {
      "cell_type": "code",
      "source": [
        "\n",
        "def get_specific_entities(pipeline, text):\n",
        "  labels = []\n",
        "  # Create a document \n",
        "  document = pipeline(text)\n",
        "    \n",
        "  # Entity text & label extraction\n",
        "  for entity in document.ents:\n",
        "    # -------------------------------- IMPORTANT NOTES ---------------------- #\n",
        "    # We take just locations , persons and organizations in consideration\n",
        "    # In the annotated text I found LOC and GPE are the same , so I treated them as they are same in the function\n",
        "    if entity.label_ in [\"ORG\" , \"PERSON\" , \"LOC\" ,\"GPE\"] :\n",
        "      txt = entity.text\n",
        "      if entity.label_ == \"LOC\" or entity.label_ == \"GPE\" :\n",
        "        label = \"LOCATION\"\n",
        "      elif entity.label_ == \"ORG\" :\n",
        "        label = \"ORGANIZATION\"\n",
        "      elif entity.label_ == \"PERSON\" :\n",
        "        label = \"PERSON\"\n",
        "\n",
        "      labels.append((label , txt))\n",
        "  return labels"
      ],
      "metadata": {
        "id": "2-6equuasmMv"
      },
      "execution_count": 9,
      "outputs": []
    },
    {
      "cell_type": "code",
      "source": [
        "# A function to get True Pos , False Pos and False Neg with ecaxt match method\n",
        "def get_TPOS_FPOS_FNEG_with_exact_match_method(annotations , predictions) :\n",
        "  len_of_samples = len(annotations)\n",
        "  true_pos = false_pos = false_neg = 0\n",
        "  for i in range(len_of_samples) :\n",
        "    for annot in annotations[i] :\n",
        "      if annot in predictions[i] :\n",
        "        true_pos += 1\n",
        "      else :\n",
        "        false_neg += 1\n",
        "\n",
        "    for pred in predictions[i] :\n",
        "      if pred not in annotations[i] :\n",
        "        false_pos += 1\n",
        "    \n",
        "  return true_pos , false_pos , false_neg\n"
      ],
      "metadata": {
        "id": "Bo2TQLRVyI1s"
      },
      "execution_count": 10,
      "outputs": []
    },
    {
      "cell_type": "code",
      "source": [
        "def calculatePercision_Recall_F1(true_pos , false_pos , false_neg) :\n",
        "  Precision = true_pos / (true_pos + false_pos) \n",
        "  Recall = true_pos / (true_pos + false_neg) \n",
        "  f1_score = (2 * (Precision * Recall)) / (Precision + Recall)\n",
        "  return Precision , Recall , f1_score"
      ],
      "metadata": {
        "id": "xb8QBNklrXok"
      },
      "execution_count": 48,
      "outputs": []
    },
    {
      "cell_type": "markdown",
      "source": [
        "# First get clean text inputs to provide them to the different model"
      ],
      "metadata": {
        "id": "QPIszsWOZkMp"
      }
    },
    {
      "cell_type": "markdown",
      "source": [
        "## Read the text file "
      ],
      "metadata": {
        "id": "-baH4hpgaCtf"
      }
    },
    {
      "cell_type": "code",
      "execution_count": 11,
      "metadata": {
        "id": "lzqSarcVZL19"
      },
      "outputs": [],
      "source": [
        "ner_file = open(\"/content/news_sample_ner.txt\",\"r\")"
      ]
    },
    {
      "cell_type": "markdown",
      "source": [
        "## Scrap the file and get the text of `p` tag without any additional html tags , then remove any non-important spaces and make the sentece on a single line\n"
      ],
      "metadata": {
        "id": "3NHtZj9gdRVT"
      }
    },
    {
      "cell_type": "code",
      "source": [
        "# parsing the html file\n",
        "htmlParse = BeautifulSoup(ner_file, 'html.parser')\n",
        "pure_sentences = []\n",
        "# getting all the paragraphs\n",
        "for para in htmlParse.find_all(\"p\"):\n",
        "    pure_sentences.append(para.get_text().replace(\"\\n\", \" \").strip())\n",
        "    #print(para.get_text().replace(\"\\n\", \"\").strip())"
      ],
      "metadata": {
        "id": "wcGAaEtEaSSF"
      },
      "execution_count": 12,
      "outputs": []
    },
    {
      "cell_type": "code",
      "source": [
        "pure_sentences[6]"
      ],
      "metadata": {
        "colab": {
          "base_uri": "https://localhost:8080/",
          "height": 70
        },
        "id": "XPHW5-CzdrjR",
        "outputId": "be2057a4-5c3e-4ebf-bfe2-cb3a3f2cfa49"
      },
      "execution_count": 13,
      "outputs": [
        {
          "output_type": "execute_result",
          "data": {
            "text/plain": [
              "\"``Because his capsule is not pressurized,'' Branson said in an interview, ``Steve will have to stay at around 20,000 feet, which is usually well below the core of the jet stream. That could slow him down a lot. We will be at 30,000 to 35,000 feet, where our chances of riding the high-speed jet stream are much better.\""
            ],
            "application/vnd.google.colaboratory.intrinsic+json": {
              "type": "string"
            }
          },
          "metadata": {},
          "execution_count": 13
        }
      ]
    },
    {
      "cell_type": "markdown",
      "source": [
        "# Second , get the sentences with their NER tags to use them in creating the validation set to test the models later"
      ],
      "metadata": {
        "id": "hrxERBnAe6DN"
      }
    },
    {
      "cell_type": "markdown",
      "source": [
        "## Read the file as raw text then split it on the P tag"
      ],
      "metadata": {
        "id": "VFNsWGW3far5"
      }
    },
    {
      "cell_type": "code",
      "source": [
        "txt = Path('/content/news_sample_ner.txt').read_text()"
      ],
      "metadata": {
        "id": "4DEbGTsIfUBW"
      },
      "execution_count": 14,
      "outputs": []
    },
    {
      "cell_type": "code",
      "source": [
        "sentences_with_NER_tags = txt.split('</p>')"
      ],
      "metadata": {
        "id": "ibFSzXt1fO8i"
      },
      "execution_count": 15,
      "outputs": []
    },
    {
      "cell_type": "code",
      "source": [
        "# remove the last elemt of the list as it does not contain text of <p> tag\n",
        "sentences_with_NER_tags.pop()"
      ],
      "metadata": {
        "colab": {
          "base_uri": "https://localhost:8080/",
          "height": 36
        },
        "id": "fzWL3Potfziu",
        "outputId": "84cafbee-ab09-401e-8791-285cc1f69d93"
      },
      "execution_count": 16,
      "outputs": [
        {
          "output_type": "execute_result",
          "data": {
            "text/plain": [
              "'</TEXT>\\n<TRAILER>\\nNYT-<TIMEX TYPE=\"DATE\">04-03-96</TIMEX> <TIMEX TYPE=\"TIME\">2047EST</TIMEX>\\n</TRAILER>\\n</DOC>'"
            ],
            "application/vnd.google.colaboratory.intrinsic+json": {
              "type": "string"
            }
          },
          "metadata": {},
          "execution_count": 16
        }
      ]
    },
    {
      "cell_type": "code",
      "source": [
        "# The first elemet of the list contains text of <p> tag and some other text , so I will remove the other text\n",
        "sentences_with_NER_tags[0] = sentences_with_NER_tags[0].split('<p>')[1] "
      ],
      "metadata": {
        "id": "xbq83ZMLgCwW"
      },
      "execution_count": 17,
      "outputs": []
    },
    {
      "cell_type": "code",
      "source": [
        "# Clean the sentences : Remove unnecessary spaces , <p> tags and \"\\n\"\n",
        "for i in range(0,len(sentences_with_NER_tags)) :\n",
        "  sentences_with_NER_tags[i] = sentences_with_NER_tags[i].replace(\"\\n\", \"\").replace(\"<p>\", \"\").strip()"
      ],
      "metadata": {
        "id": "kQ9oou_cgUXw"
      },
      "execution_count": 18,
      "outputs": []
    },
    {
      "cell_type": "code",
      "source": [
        "print(sentences_with_NER_tags[0])"
      ],
      "metadata": {
        "colab": {
          "base_uri": "https://localhost:8080/"
        },
        "id": "AvnN-UQcgl47",
        "outputId": "1983f995-55de-4415-9a6d-d6d91c7535a4"
      },
      "execution_count": 19,
      "outputs": [
        {
          "output_type": "stream",
          "name": "stdout",
          "text": [
            "Shortly after <ENAMEX TYPE=\"PERSON\">Fossett</ENAMEX>'s launching <TIMEX TYPE=\"DATE\">Monday</TIMEX> his competitors senthim telegrams of congratulation.\n"
          ]
        }
      ]
    },
    {
      "cell_type": "markdown",
      "source": [
        "# Now we have sentences with their NER tags , It's time to create the test set from them"
      ],
      "metadata": {
        "id": "h3n3i4IphnrO"
      }
    },
    {
      "cell_type": "code",
      "source": [
        "ground_truth_entities = []\n",
        "for sentence in sentences_with_NER_tags :\n",
        "  ground_truth_entities.append(get_ground_truth_entities(sentence))"
      ],
      "metadata": {
        "id": "WK75SoELS6nd"
      },
      "execution_count": 20,
      "outputs": []
    },
    {
      "cell_type": "code",
      "source": [
        "len(ground_truth_entities)"
      ],
      "metadata": {
        "colab": {
          "base_uri": "https://localhost:8080/"
        },
        "id": "wzHWKwNKTtFz",
        "outputId": "b2ece0a0-7b7b-49c1-a169-9cd35d8a8b7f"
      },
      "execution_count": 21,
      "outputs": [
        {
          "output_type": "execute_result",
          "data": {
            "text/plain": [
              "173"
            ]
          },
          "metadata": {},
          "execution_count": 21
        }
      ]
    },
    {
      "cell_type": "code",
      "source": [
        "ground_truth_entities[1]"
      ],
      "metadata": {
        "colab": {
          "base_uri": "https://localhost:8080/"
        },
        "id": "Clu_99cMTwBX",
        "outputId": "5eec41b8-9cbd-4b8c-8dc9-a576cccf9e39"
      },
      "execution_count": 22,
      "outputs": [
        {
          "output_type": "execute_result",
          "data": {
            "text/plain": [
              "[('ORGANIZATION', 'Virgin'),\n",
              " ('PERSON', 'Richard Branson'),\n",
              " ('ORGANIZATION', 'Virgin Atlantic Airways'),\n",
              " ('PERSON', 'Per Lindstrand'),\n",
              " ('ORGANIZATION', 'Lindstrand Balloons Ltd.'),\n",
              " ('LOCATION', 'Oswestry'),\n",
              " ('LOCATION', 'England'),\n",
              " ('PERSON', 'Rory McCarthy')]"
            ]
          },
          "metadata": {},
          "execution_count": 22
        }
      ]
    },
    {
      "cell_type": "markdown",
      "source": [
        "# Annotate the data with Spacy using statistal and transformer methods"
      ],
      "metadata": {
        "id": "Pq2lI0QyMu6e"
      }
    },
    {
      "cell_type": "markdown",
      "source": [
        "## Load NER statistical model and get the prediction for the whole dataset"
      ],
      "metadata": {
        "id": "m1iM160JdHVC"
      }
    },
    {
      "cell_type": "code",
      "source": [
        "# Load English large model\n",
        "nlp_sm = spacy.load(\"en_core_web_lg\")"
      ],
      "metadata": {
        "id": "GeduqmEqc53b"
      },
      "execution_count": 23,
      "outputs": []
    },
    {
      "cell_type": "code",
      "source": [
        "predictions_from_statistical_model = []\n",
        "for i in pure_sentences :\n",
        "  predictions_from_statistical_model.append(get_specific_entities(nlp_sm,i))"
      ],
      "metadata": {
        "id": "Hd_qlXH6ykxp"
      },
      "execution_count": 24,
      "outputs": []
    },
    {
      "cell_type": "markdown",
      "source": [
        "## Load NER transformers-based model and get the prediction for the whole dataset"
      ],
      "metadata": {
        "id": "oHXTGREidOes"
      }
    },
    {
      "cell_type": "code",
      "source": [
        "# Load the spacy transformer (roberta-base) model\n",
        "roberta_nlp = spacy.load(\"en_core_web_trf\")\n"
      ],
      "metadata": {
        "id": "zjB2lnKndMdP"
      },
      "execution_count": 25,
      "outputs": []
    },
    {
      "cell_type": "code",
      "source": [
        "predictions_from_transformer_based_model = []\n",
        "for i in pure_sentences :\n",
        "  predictions_from_transformer_based_model.append(get_specific_entities(roberta_nlp,i))"
      ],
      "metadata": {
        "id": "RJqQFWYpy8_G"
      },
      "execution_count": 26,
      "outputs": []
    },
    {
      "cell_type": "code",
      "source": [
        "text = pure_sentences[8]"
      ],
      "metadata": {
        "id": "RRNo4KE5fyS8"
      },
      "execution_count": 28,
      "outputs": []
    },
    {
      "cell_type": "code",
      "source": [
        "sentences_with_NER_tags[8]"
      ],
      "metadata": {
        "colab": {
          "base_uri": "https://localhost:8080/",
          "height": 88
        },
        "id": "IXCRMDgQgiJP",
        "outputId": "5016762e-1a4e-4319-d353-1c6b0d5e0c10"
      },
      "execution_count": 29,
      "outputs": [
        {
          "output_type": "execute_result",
          "data": {
            "text/plain": [
              "'The Dutch team, led by <ENAMEX TYPE=\"PERSON\">Henk Brink</ENAMEX>, recently tested the inflationof its <ENAMEX TYPE=\"ORGANIZATION\">Unicef</ENAMEX> Flyer balloon at <ENAMEX TYPE=\"LOCATION\">Cape Kennedy</ENAMEX> in <ENAMEX TYPE=\"ORGANIZATION\">NASA</ENAMEX>\\'s huge VehicleAssembly Building, where space shuttles are prepared for flight.<ENAMEX TYPE=\"PERSON\">Brink</ENAMEX>, who intends to launch his balloon from <ENAMEX TYPE=\"LOCATION\">Nijmegen</ENAMEX>, <ENAMEX TYPE=\"LOCATION\">theNetherlands</ENAMEX>, is a helicopter instructor and veteran balloonist.'"
            ],
            "application/vnd.google.colaboratory.intrinsic+json": {
              "type": "string"
            }
          },
          "metadata": {},
          "execution_count": 29
        }
      ]
    },
    {
      "cell_type": "code",
      "source": [
        "sm_specific_labels = get_specific_entities(nlp_sm, text)\n",
        "sm_specific_labels"
      ],
      "metadata": {
        "colab": {
          "base_uri": "https://localhost:8080/"
        },
        "id": "OhWVwqLbdYNt",
        "outputId": "8a5fc5ba-3c4e-44de-a90d-3b254975edb5"
      },
      "execution_count": 30,
      "outputs": [
        {
          "output_type": "execute_result",
          "data": {
            "text/plain": [
              "[('PERSON', 'Henk Brink'),\n",
              " ('ORGANIZATION', 'Unicef'),\n",
              " ('ORGANIZATION', 'NASA'),\n",
              " ('ORGANIZATION', 'Vehicle Assembly Building'),\n",
              " ('PERSON', 'Brink'),\n",
              " ('LOCATION', 'Nijmegen'),\n",
              " ('LOCATION', 'Netherlands')]"
            ]
          },
          "metadata": {},
          "execution_count": 30
        }
      ]
    },
    {
      "cell_type": "code",
      "source": [
        "#sm_specific_labels"
      ],
      "metadata": {
        "id": "-JiGCtq88Kou"
      },
      "execution_count": null,
      "outputs": []
    },
    {
      "cell_type": "code",
      "source": [
        "trf_specific_lables = get_specific_entities(roberta_nlp, text)\n",
        "trf_specific_lables"
      ],
      "metadata": {
        "colab": {
          "base_uri": "https://localhost:8080/"
        },
        "id": "0q_5vm2Mf_wa",
        "outputId": "85a10e78-10bb-4607-9d43-f4ad4326f8a4"
      },
      "execution_count": 32,
      "outputs": [
        {
          "output_type": "execute_result",
          "data": {
            "text/plain": [
              "[('PERSON', 'Henk Brink'),\n",
              " ('LOCATION', 'Cape Kennedy'),\n",
              " ('ORGANIZATION', 'NASA'),\n",
              " ('PERSON', 'Brink'),\n",
              " ('LOCATION', 'Nijmegen'),\n",
              " ('LOCATION', 'Netherlands')]"
            ]
          },
          "metadata": {},
          "execution_count": 32
        }
      ]
    },
    {
      "cell_type": "markdown",
      "source": [
        "# Now it's time to evaluate the model predictions usinf percision , recall and f1 metrics"
      ],
      "metadata": {
        "id": "ouLQ9V_MyJrF"
      }
    },
    {
      "cell_type": "markdown",
      "source": [
        "### Get precision , recall and f1 for the statistical model"
      ],
      "metadata": {
        "id": "6HZB76ag6OLR"
      }
    },
    {
      "cell_type": "code",
      "source": [
        "true_pos , false_pos , false_neg = get_TPOS_FPOS_FNEG_with_exact_match_method(ground_truth_entities,predictions_from_statistical_model)"
      ],
      "metadata": {
        "id": "2OfIsfJY6Myu"
      },
      "execution_count": 45,
      "outputs": []
    },
    {
      "cell_type": "code",
      "source": [
        "print(true_pos , false_pos , false_neg)"
      ],
      "metadata": {
        "colab": {
          "base_uri": "https://localhost:8080/"
        },
        "id": "nqeciAJX7ZZD",
        "outputId": "22e6b869-33c1-49b6-e180-3b0c485c8a82"
      },
      "execution_count": 46,
      "outputs": [
        {
          "output_type": "stream",
          "name": "stdout",
          "text": [
            "272 121 157\n"
          ]
        }
      ]
    },
    {
      "cell_type": "code",
      "source": [
        "Precision , Recall , f1_score = calculatePercision_Recall_F1(true_pos , false_pos , false_neg) "
      ],
      "metadata": {
        "id": "nkvPhInIr99X"
      },
      "execution_count": 49,
      "outputs": []
    },
    {
      "cell_type": "code",
      "source": [
        "print(\"Precision: \" + str(Precision) +\", Recall: \"  + str(Recall) + \",f1_score: \" + str(f1_score))"
      ],
      "metadata": {
        "colab": {
          "base_uri": "https://localhost:8080/"
        },
        "id": "bzVMSefTsCvX",
        "outputId": "8587308a-9a63-4264-8b66-42f8ea0fa947"
      },
      "execution_count": 51,
      "outputs": [
        {
          "output_type": "stream",
          "name": "stdout",
          "text": [
            "Precision: 0.6921119592875318, Recall: 0.634032634032634,f1_score: 0.6618004866180048\n"
          ]
        }
      ]
    },
    {
      "cell_type": "markdown",
      "source": [
        "### Get precision , recall and f1 for the transfomer-based model"
      ],
      "metadata": {
        "id": "RibEe7lA8AA1"
      }
    },
    {
      "cell_type": "code",
      "source": [
        "true_pos , false_pos , false_neg = get_TPOS_FPOS_FNEG_with_exact_match_method(ground_truth_entities,predictions_from_transformer_based_model)"
      ],
      "metadata": {
        "id": "z-uPQf2i78U2"
      },
      "execution_count": 52,
      "outputs": []
    },
    {
      "cell_type": "code",
      "source": [
        "Precision , Recall , f1_score = calculatePercision_Recall_F1(true_pos , false_pos , false_neg) "
      ],
      "metadata": {
        "id": "liG4LAvFtNGw"
      },
      "execution_count": 53,
      "outputs": []
    },
    {
      "cell_type": "code",
      "source": [
        "print(\"Precision: \" + str(Precision) +\", Recall: \"  + str(Recall) + \",f1_score: \" + str(f1_score))"
      ],
      "metadata": {
        "colab": {
          "base_uri": "https://localhost:8080/"
        },
        "id": "bidAN2V1tPWJ",
        "outputId": "b7b32581-9205-42a9-d57f-168c6aa4778d"
      },
      "execution_count": 54,
      "outputs": [
        {
          "output_type": "stream",
          "name": "stdout",
          "text": [
            "Precision: 0.7902813299232737, Recall: 0.7202797202797203,f1_score: 0.753658536585366\n"
          ]
        }
      ]
    }
  ]
}